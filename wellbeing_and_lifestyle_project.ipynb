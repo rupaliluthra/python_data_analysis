{
 "cells": [
  {
   "cell_type": "code",
   "execution_count": 1,
   "metadata": {},
   "outputs": [],
   "source": [
    "import pandas as pd\n",
    "import numpy as np\n",
    "import seaborn as sns\n",
    "from matplotlib import pyplot as plt"
   ]
  },
  {
   "cell_type": "code",
   "execution_count": 2,
   "metadata": {},
   "outputs": [],
   "source": [
    "data=pd.read_csv(\"wellbeing_and_lifestyle_data_kaggle.csv\")\n"
   ]
  },
  {
   "cell_type": "code",
   "execution_count": 3,
   "metadata": {},
   "outputs": [
    {
     "data": {
      "text/html": [
       "<div>\n",
       "<style scoped>\n",
       "    .dataframe tbody tr th:only-of-type {\n",
       "        vertical-align: middle;\n",
       "    }\n",
       "\n",
       "    .dataframe tbody tr th {\n",
       "        vertical-align: top;\n",
       "    }\n",
       "\n",
       "    .dataframe thead th {\n",
       "        text-align: right;\n",
       "    }\n",
       "</style>\n",
       "<table border=\"1\" class=\"dataframe\">\n",
       "  <thead>\n",
       "    <tr style=\"text-align: right;\">\n",
       "      <th></th>\n",
       "      <th>Timestamp</th>\n",
       "      <th>FRUITS_VEGGIES</th>\n",
       "      <th>DAILY_STRESS</th>\n",
       "      <th>PLACES_VISITED</th>\n",
       "      <th>CORE_CIRCLE</th>\n",
       "      <th>SUPPORTING_OTHERS</th>\n",
       "      <th>SOCIAL_NETWORK</th>\n",
       "      <th>ACHIEVEMENT</th>\n",
       "      <th>DONATION</th>\n",
       "      <th>BMI_RANGE</th>\n",
       "      <th>...</th>\n",
       "      <th>SLEEP_HOURS</th>\n",
       "      <th>LOST_VACATION</th>\n",
       "      <th>DAILY_SHOUTING</th>\n",
       "      <th>SUFFICIENT_INCOME</th>\n",
       "      <th>PERSONAL_AWARDS</th>\n",
       "      <th>TIME_FOR_PASSION</th>\n",
       "      <th>WEEKLY_MEDITATION</th>\n",
       "      <th>AGE</th>\n",
       "      <th>GENDER</th>\n",
       "      <th>WORK_LIFE_BALANCE_SCORE</th>\n",
       "    </tr>\n",
       "  </thead>\n",
       "  <tbody>\n",
       "    <tr>\n",
       "      <th>0</th>\n",
       "      <td>7/7/2015</td>\n",
       "      <td>3</td>\n",
       "      <td>2</td>\n",
       "      <td>2</td>\n",
       "      <td>5</td>\n",
       "      <td>0</td>\n",
       "      <td>5</td>\n",
       "      <td>2</td>\n",
       "      <td>0</td>\n",
       "      <td>1</td>\n",
       "      <td>...</td>\n",
       "      <td>7</td>\n",
       "      <td>5</td>\n",
       "      <td>5</td>\n",
       "      <td>1</td>\n",
       "      <td>4</td>\n",
       "      <td>0</td>\n",
       "      <td>5</td>\n",
       "      <td>36 to 50</td>\n",
       "      <td>Female</td>\n",
       "      <td>609.5</td>\n",
       "    </tr>\n",
       "    <tr>\n",
       "      <th>1</th>\n",
       "      <td>7/7/2015</td>\n",
       "      <td>2</td>\n",
       "      <td>3</td>\n",
       "      <td>4</td>\n",
       "      <td>3</td>\n",
       "      <td>8</td>\n",
       "      <td>10</td>\n",
       "      <td>5</td>\n",
       "      <td>2</td>\n",
       "      <td>2</td>\n",
       "      <td>...</td>\n",
       "      <td>8</td>\n",
       "      <td>2</td>\n",
       "      <td>2</td>\n",
       "      <td>2</td>\n",
       "      <td>3</td>\n",
       "      <td>2</td>\n",
       "      <td>6</td>\n",
       "      <td>36 to 50</td>\n",
       "      <td>Female</td>\n",
       "      <td>655.6</td>\n",
       "    </tr>\n",
       "    <tr>\n",
       "      <th>2</th>\n",
       "      <td>7/7/2015</td>\n",
       "      <td>2</td>\n",
       "      <td>3</td>\n",
       "      <td>3</td>\n",
       "      <td>4</td>\n",
       "      <td>4</td>\n",
       "      <td>10</td>\n",
       "      <td>3</td>\n",
       "      <td>2</td>\n",
       "      <td>2</td>\n",
       "      <td>...</td>\n",
       "      <td>8</td>\n",
       "      <td>10</td>\n",
       "      <td>2</td>\n",
       "      <td>2</td>\n",
       "      <td>4</td>\n",
       "      <td>8</td>\n",
       "      <td>3</td>\n",
       "      <td>36 to 50</td>\n",
       "      <td>Female</td>\n",
       "      <td>631.6</td>\n",
       "    </tr>\n",
       "    <tr>\n",
       "      <th>3</th>\n",
       "      <td>7/7/2015</td>\n",
       "      <td>3</td>\n",
       "      <td>3</td>\n",
       "      <td>10</td>\n",
       "      <td>3</td>\n",
       "      <td>10</td>\n",
       "      <td>7</td>\n",
       "      <td>2</td>\n",
       "      <td>5</td>\n",
       "      <td>2</td>\n",
       "      <td>...</td>\n",
       "      <td>5</td>\n",
       "      <td>7</td>\n",
       "      <td>5</td>\n",
       "      <td>1</td>\n",
       "      <td>5</td>\n",
       "      <td>2</td>\n",
       "      <td>0</td>\n",
       "      <td>51 or more</td>\n",
       "      <td>Female</td>\n",
       "      <td>622.7</td>\n",
       "    </tr>\n",
       "    <tr>\n",
       "      <th>4</th>\n",
       "      <td>7/7/2015</td>\n",
       "      <td>5</td>\n",
       "      <td>1</td>\n",
       "      <td>3</td>\n",
       "      <td>3</td>\n",
       "      <td>10</td>\n",
       "      <td>4</td>\n",
       "      <td>2</td>\n",
       "      <td>4</td>\n",
       "      <td>2</td>\n",
       "      <td>...</td>\n",
       "      <td>7</td>\n",
       "      <td>0</td>\n",
       "      <td>0</td>\n",
       "      <td>2</td>\n",
       "      <td>8</td>\n",
       "      <td>1</td>\n",
       "      <td>5</td>\n",
       "      <td>51 or more</td>\n",
       "      <td>Female</td>\n",
       "      <td>663.9</td>\n",
       "    </tr>\n",
       "  </tbody>\n",
       "</table>\n",
       "<p>5 rows × 24 columns</p>\n",
       "</div>"
      ],
      "text/plain": [
       "  Timestamp  FRUITS_VEGGIES DAILY_STRESS  PLACES_VISITED  CORE_CIRCLE  \\\n",
       "0  7/7/2015               3            2               2            5   \n",
       "1  7/7/2015               2            3               4            3   \n",
       "2  7/7/2015               2            3               3            4   \n",
       "3  7/7/2015               3            3              10            3   \n",
       "4  7/7/2015               5            1               3            3   \n",
       "\n",
       "   SUPPORTING_OTHERS  SOCIAL_NETWORK  ACHIEVEMENT  DONATION  BMI_RANGE  ...  \\\n",
       "0                  0               5            2         0          1  ...   \n",
       "1                  8              10            5         2          2  ...   \n",
       "2                  4              10            3         2          2  ...   \n",
       "3                 10               7            2         5          2  ...   \n",
       "4                 10               4            2         4          2  ...   \n",
       "\n",
       "   SLEEP_HOURS  LOST_VACATION  DAILY_SHOUTING  SUFFICIENT_INCOME  \\\n",
       "0            7              5               5                  1   \n",
       "1            8              2               2                  2   \n",
       "2            8             10               2                  2   \n",
       "3            5              7               5                  1   \n",
       "4            7              0               0                  2   \n",
       "\n",
       "   PERSONAL_AWARDS  TIME_FOR_PASSION  WEEKLY_MEDITATION         AGE  GENDER  \\\n",
       "0                4                 0                  5    36 to 50  Female   \n",
       "1                3                 2                  6    36 to 50  Female   \n",
       "2                4                 8                  3    36 to 50  Female   \n",
       "3                5                 2                  0  51 or more  Female   \n",
       "4                8                 1                  5  51 or more  Female   \n",
       "\n",
       "   WORK_LIFE_BALANCE_SCORE  \n",
       "0                    609.5  \n",
       "1                    655.6  \n",
       "2                    631.6  \n",
       "3                    622.7  \n",
       "4                    663.9  \n",
       "\n",
       "[5 rows x 24 columns]"
      ]
     },
     "execution_count": 3,
     "metadata": {},
     "output_type": "execute_result"
    }
   ],
   "source": [
    "data.head(5)"
   ]
  },
  {
   "cell_type": "code",
   "execution_count": 4,
   "metadata": {},
   "outputs": [],
   "source": [
    "data.columns=data.columns.str.lower()"
   ]
  },
  {
   "cell_type": "code",
   "execution_count": 5,
   "metadata": {},
   "outputs": [
    {
     "data": {
      "text/plain": [
       "(15972, 24)"
      ]
     },
     "execution_count": 5,
     "metadata": {},
     "output_type": "execute_result"
    }
   ],
   "source": [
    "data.shape"
   ]
  },
  {
   "cell_type": "code",
   "execution_count": 6,
   "metadata": {},
   "outputs": [
    {
     "data": {
      "text/plain": [
       "timestamp                   object\n",
       "fruits_veggies               int64\n",
       "daily_stress                object\n",
       "places_visited               int64\n",
       "core_circle                  int64\n",
       "supporting_others            int64\n",
       "social_network               int64\n",
       "achievement                  int64\n",
       "donation                     int64\n",
       "bmi_range                    int64\n",
       "todo_completed               int64\n",
       "flow                         int64\n",
       "daily_steps                  int64\n",
       "live_vision                  int64\n",
       "sleep_hours                  int64\n",
       "lost_vacation                int64\n",
       "daily_shouting               int64\n",
       "sufficient_income            int64\n",
       "personal_awards              int64\n",
       "time_for_passion             int64\n",
       "weekly_meditation            int64\n",
       "age                         object\n",
       "gender                      object\n",
       "work_life_balance_score    float64\n",
       "dtype: object"
      ]
     },
     "execution_count": 6,
     "metadata": {},
     "output_type": "execute_result"
    }
   ],
   "source": [
    "data.dtypes"
   ]
  },
  {
   "cell_type": "code",
   "execution_count": 7,
   "metadata": {},
   "outputs": [
    {
     "data": {
      "text/plain": [
       "0        True\n",
       "1        True\n",
       "2        True\n",
       "3        True\n",
       "4        True\n",
       "         ... \n",
       "15967    True\n",
       "15968    True\n",
       "15969    True\n",
       "15970    True\n",
       "15971    True\n",
       "Name: daily_stress, Length: 15972, dtype: bool"
      ]
     },
     "execution_count": 7,
     "metadata": {},
     "output_type": "execute_result"
    }
   ],
   "source": [
    "data.daily_stress.apply(lambda x: x.isnumeric())"
   ]
  },
  {
   "cell_type": "code",
   "execution_count": 8,
   "metadata": {},
   "outputs": [
    {
     "data": {
      "text/plain": [
       "timestamp                  0\n",
       "fruits_veggies             0\n",
       "daily_stress               0\n",
       "places_visited             0\n",
       "core_circle                0\n",
       "supporting_others          0\n",
       "social_network             0\n",
       "achievement                0\n",
       "donation                   0\n",
       "bmi_range                  0\n",
       "todo_completed             0\n",
       "flow                       0\n",
       "daily_steps                0\n",
       "live_vision                0\n",
       "sleep_hours                0\n",
       "lost_vacation              0\n",
       "daily_shouting             0\n",
       "sufficient_income          0\n",
       "personal_awards            0\n",
       "time_for_passion           0\n",
       "weekly_meditation          0\n",
       "age                        0\n",
       "gender                     0\n",
       "work_life_balance_score    0\n",
       "dtype: int64"
      ]
     },
     "execution_count": 8,
     "metadata": {},
     "output_type": "execute_result"
    }
   ],
   "source": [
    "np.sum(data.isna())"
   ]
  },
  {
   "cell_type": "code",
   "execution_count": 9,
   "metadata": {},
   "outputs": [],
   "source": [
    "data=data.drop(['timestamp','age','gender','work_life_balance_score'], axis = 1)"
   ]
  },
  {
   "cell_type": "code",
   "execution_count": 10,
   "metadata": {},
   "outputs": [
    {
     "data": {
      "text/html": [
       "<div>\n",
       "<style scoped>\n",
       "    .dataframe tbody tr th:only-of-type {\n",
       "        vertical-align: middle;\n",
       "    }\n",
       "\n",
       "    .dataframe tbody tr th {\n",
       "        vertical-align: top;\n",
       "    }\n",
       "\n",
       "    .dataframe thead th {\n",
       "        text-align: right;\n",
       "    }\n",
       "</style>\n",
       "<table border=\"1\" class=\"dataframe\">\n",
       "  <thead>\n",
       "    <tr style=\"text-align: right;\">\n",
       "      <th></th>\n",
       "      <th>fruits_veggies</th>\n",
       "      <th>daily_stress</th>\n",
       "      <th>places_visited</th>\n",
       "      <th>core_circle</th>\n",
       "      <th>supporting_others</th>\n",
       "      <th>social_network</th>\n",
       "      <th>achievement</th>\n",
       "      <th>donation</th>\n",
       "      <th>bmi_range</th>\n",
       "      <th>todo_completed</th>\n",
       "      <th>flow</th>\n",
       "      <th>daily_steps</th>\n",
       "      <th>live_vision</th>\n",
       "      <th>sleep_hours</th>\n",
       "      <th>lost_vacation</th>\n",
       "      <th>daily_shouting</th>\n",
       "      <th>sufficient_income</th>\n",
       "      <th>personal_awards</th>\n",
       "      <th>time_for_passion</th>\n",
       "      <th>weekly_meditation</th>\n",
       "    </tr>\n",
       "  </thead>\n",
       "  <tbody>\n",
       "    <tr>\n",
       "      <th>0</th>\n",
       "      <td>3</td>\n",
       "      <td>2</td>\n",
       "      <td>2</td>\n",
       "      <td>5</td>\n",
       "      <td>0</td>\n",
       "      <td>5</td>\n",
       "      <td>2</td>\n",
       "      <td>0</td>\n",
       "      <td>1</td>\n",
       "      <td>6</td>\n",
       "      <td>4</td>\n",
       "      <td>5</td>\n",
       "      <td>0</td>\n",
       "      <td>7</td>\n",
       "      <td>5</td>\n",
       "      <td>5</td>\n",
       "      <td>1</td>\n",
       "      <td>4</td>\n",
       "      <td>0</td>\n",
       "      <td>5</td>\n",
       "    </tr>\n",
       "    <tr>\n",
       "      <th>1</th>\n",
       "      <td>2</td>\n",
       "      <td>3</td>\n",
       "      <td>4</td>\n",
       "      <td>3</td>\n",
       "      <td>8</td>\n",
       "      <td>10</td>\n",
       "      <td>5</td>\n",
       "      <td>2</td>\n",
       "      <td>2</td>\n",
       "      <td>5</td>\n",
       "      <td>2</td>\n",
       "      <td>5</td>\n",
       "      <td>5</td>\n",
       "      <td>8</td>\n",
       "      <td>2</td>\n",
       "      <td>2</td>\n",
       "      <td>2</td>\n",
       "      <td>3</td>\n",
       "      <td>2</td>\n",
       "      <td>6</td>\n",
       "    </tr>\n",
       "    <tr>\n",
       "      <th>2</th>\n",
       "      <td>2</td>\n",
       "      <td>3</td>\n",
       "      <td>3</td>\n",
       "      <td>4</td>\n",
       "      <td>4</td>\n",
       "      <td>10</td>\n",
       "      <td>3</td>\n",
       "      <td>2</td>\n",
       "      <td>2</td>\n",
       "      <td>2</td>\n",
       "      <td>2</td>\n",
       "      <td>4</td>\n",
       "      <td>5</td>\n",
       "      <td>8</td>\n",
       "      <td>10</td>\n",
       "      <td>2</td>\n",
       "      <td>2</td>\n",
       "      <td>4</td>\n",
       "      <td>8</td>\n",
       "      <td>3</td>\n",
       "    </tr>\n",
       "    <tr>\n",
       "      <th>3</th>\n",
       "      <td>3</td>\n",
       "      <td>3</td>\n",
       "      <td>10</td>\n",
       "      <td>3</td>\n",
       "      <td>10</td>\n",
       "      <td>7</td>\n",
       "      <td>2</td>\n",
       "      <td>5</td>\n",
       "      <td>2</td>\n",
       "      <td>3</td>\n",
       "      <td>5</td>\n",
       "      <td>5</td>\n",
       "      <td>0</td>\n",
       "      <td>5</td>\n",
       "      <td>7</td>\n",
       "      <td>5</td>\n",
       "      <td>1</td>\n",
       "      <td>5</td>\n",
       "      <td>2</td>\n",
       "      <td>0</td>\n",
       "    </tr>\n",
       "    <tr>\n",
       "      <th>4</th>\n",
       "      <td>5</td>\n",
       "      <td>1</td>\n",
       "      <td>3</td>\n",
       "      <td>3</td>\n",
       "      <td>10</td>\n",
       "      <td>4</td>\n",
       "      <td>2</td>\n",
       "      <td>4</td>\n",
       "      <td>2</td>\n",
       "      <td>5</td>\n",
       "      <td>0</td>\n",
       "      <td>5</td>\n",
       "      <td>0</td>\n",
       "      <td>7</td>\n",
       "      <td>0</td>\n",
       "      <td>0</td>\n",
       "      <td>2</td>\n",
       "      <td>8</td>\n",
       "      <td>1</td>\n",
       "      <td>5</td>\n",
       "    </tr>\n",
       "  </tbody>\n",
       "</table>\n",
       "</div>"
      ],
      "text/plain": [
       "   fruits_veggies daily_stress  places_visited  core_circle  \\\n",
       "0               3            2               2            5   \n",
       "1               2            3               4            3   \n",
       "2               2            3               3            4   \n",
       "3               3            3              10            3   \n",
       "4               5            1               3            3   \n",
       "\n",
       "   supporting_others  social_network  achievement  donation  bmi_range  \\\n",
       "0                  0               5            2         0          1   \n",
       "1                  8              10            5         2          2   \n",
       "2                  4              10            3         2          2   \n",
       "3                 10               7            2         5          2   \n",
       "4                 10               4            2         4          2   \n",
       "\n",
       "   todo_completed  flow  daily_steps  live_vision  sleep_hours  lost_vacation  \\\n",
       "0               6     4            5            0            7              5   \n",
       "1               5     2            5            5            8              2   \n",
       "2               2     2            4            5            8             10   \n",
       "3               3     5            5            0            5              7   \n",
       "4               5     0            5            0            7              0   \n",
       "\n",
       "   daily_shouting  sufficient_income  personal_awards  time_for_passion  \\\n",
       "0               5                  1                4                 0   \n",
       "1               2                  2                3                 2   \n",
       "2               2                  2                4                 8   \n",
       "3               5                  1                5                 2   \n",
       "4               0                  2                8                 1   \n",
       "\n",
       "   weekly_meditation  \n",
       "0                  5  \n",
       "1                  6  \n",
       "2                  3  \n",
       "3                  0  \n",
       "4                  5  "
      ]
     },
     "execution_count": 10,
     "metadata": {},
     "output_type": "execute_result"
    }
   ],
   "source": [
    "data.head(5)"
   ]
  },
  {
   "cell_type": "code",
   "execution_count": 11,
   "metadata": {},
   "outputs": [
    {
     "data": {
      "text/html": [
       "<div>\n",
       "<style scoped>\n",
       "    .dataframe tbody tr th:only-of-type {\n",
       "        vertical-align: middle;\n",
       "    }\n",
       "\n",
       "    .dataframe tbody tr th {\n",
       "        vertical-align: top;\n",
       "    }\n",
       "\n",
       "    .dataframe thead th {\n",
       "        text-align: right;\n",
       "    }\n",
       "</style>\n",
       "<table border=\"1\" class=\"dataframe\">\n",
       "  <thead>\n",
       "    <tr style=\"text-align: right;\">\n",
       "      <th></th>\n",
       "      <th>fruits_veggies</th>\n",
       "      <th>daily_stress</th>\n",
       "      <th>places_visited</th>\n",
       "      <th>core_circle</th>\n",
       "      <th>supporting_others</th>\n",
       "      <th>social_network</th>\n",
       "      <th>achievement</th>\n",
       "      <th>donation</th>\n",
       "      <th>bmi_range</th>\n",
       "      <th>todo_completed</th>\n",
       "      <th>flow</th>\n",
       "      <th>daily_steps</th>\n",
       "      <th>live_vision</th>\n",
       "      <th>sleep_hours</th>\n",
       "      <th>lost_vacation</th>\n",
       "      <th>daily_shouting</th>\n",
       "      <th>sufficient_income</th>\n",
       "      <th>personal_awards</th>\n",
       "      <th>time_for_passion</th>\n",
       "      <th>weekly_meditation</th>\n",
       "    </tr>\n",
       "  </thead>\n",
       "  <tbody>\n",
       "    <tr>\n",
       "      <th>10005</th>\n",
       "      <td>3</td>\n",
       "      <td>1/1/2000</td>\n",
       "      <td>1</td>\n",
       "      <td>2</td>\n",
       "      <td>10</td>\n",
       "      <td>10</td>\n",
       "      <td>5</td>\n",
       "      <td>5</td>\n",
       "      <td>2</td>\n",
       "      <td>6</td>\n",
       "      <td>8</td>\n",
       "      <td>6</td>\n",
       "      <td>3</td>\n",
       "      <td>6</td>\n",
       "      <td>10</td>\n",
       "      <td>1</td>\n",
       "      <td>2</td>\n",
       "      <td>10</td>\n",
       "      <td>8</td>\n",
       "      <td>2</td>\n",
       "    </tr>\n",
       "  </tbody>\n",
       "</table>\n",
       "</div>"
      ],
      "text/plain": [
       "       fruits_veggies daily_stress  places_visited  core_circle  \\\n",
       "10005               3     1/1/2000               1            2   \n",
       "\n",
       "       supporting_others  social_network  achievement  donation  bmi_range  \\\n",
       "10005                 10              10            5         5          2   \n",
       "\n",
       "       todo_completed  flow  daily_steps  live_vision  sleep_hours  \\\n",
       "10005               6     8            6            3            6   \n",
       "\n",
       "       lost_vacation  daily_shouting  sufficient_income  personal_awards  \\\n",
       "10005             10               1                  2               10   \n",
       "\n",
       "       time_for_passion  weekly_meditation  \n",
       "10005                 8                  2  "
      ]
     },
     "execution_count": 11,
     "metadata": {},
     "output_type": "execute_result"
    }
   ],
   "source": [
    "data[data['daily_stress']=='1/1/2000']"
   ]
  },
  {
   "cell_type": "code",
   "execution_count": 12,
   "metadata": {},
   "outputs": [],
   "source": [
    "data= data.drop(index= 10005)"
   ]
  },
  {
   "cell_type": "code",
   "execution_count": 13,
   "metadata": {},
   "outputs": [
    {
     "data": {
      "text/plain": [
       "(15971, 20)"
      ]
     },
     "execution_count": 13,
     "metadata": {},
     "output_type": "execute_result"
    }
   ],
   "source": [
    "data.shape"
   ]
  },
  {
   "cell_type": "code",
   "execution_count": 14,
   "metadata": {},
   "outputs": [],
   "source": [
    "data.daily_stress= data.daily_stress.astype(int)"
   ]
  },
  {
   "cell_type": "code",
   "execution_count": 15,
   "metadata": {},
   "outputs": [
    {
     "data": {
      "text/plain": [
       "dtype('int32')"
      ]
     },
     "execution_count": 15,
     "metadata": {},
     "output_type": "execute_result"
    }
   ],
   "source": [
    "data.daily_stress.dtypes"
   ]
  },
  {
   "cell_type": "code",
   "execution_count": 16,
   "metadata": {},
   "outputs": [
    {
     "data": {
      "text/html": [
       "<div>\n",
       "<style scoped>\n",
       "    .dataframe tbody tr th:only-of-type {\n",
       "        vertical-align: middle;\n",
       "    }\n",
       "\n",
       "    .dataframe tbody tr th {\n",
       "        vertical-align: top;\n",
       "    }\n",
       "\n",
       "    .dataframe thead th {\n",
       "        text-align: right;\n",
       "    }\n",
       "</style>\n",
       "<table border=\"1\" class=\"dataframe\">\n",
       "  <thead>\n",
       "    <tr style=\"text-align: right;\">\n",
       "      <th></th>\n",
       "      <th>fruits_veggies</th>\n",
       "      <th>daily_stress</th>\n",
       "      <th>places_visited</th>\n",
       "      <th>core_circle</th>\n",
       "      <th>supporting_others</th>\n",
       "      <th>social_network</th>\n",
       "      <th>achievement</th>\n",
       "      <th>donation</th>\n",
       "      <th>bmi_range</th>\n",
       "      <th>todo_completed</th>\n",
       "      <th>flow</th>\n",
       "      <th>daily_steps</th>\n",
       "      <th>live_vision</th>\n",
       "      <th>sleep_hours</th>\n",
       "      <th>lost_vacation</th>\n",
       "      <th>daily_shouting</th>\n",
       "      <th>sufficient_income</th>\n",
       "      <th>personal_awards</th>\n",
       "      <th>time_for_passion</th>\n",
       "      <th>weekly_meditation</th>\n",
       "    </tr>\n",
       "  </thead>\n",
       "  <tbody>\n",
       "    <tr>\n",
       "      <th>min</th>\n",
       "      <td>0</td>\n",
       "      <td>0</td>\n",
       "      <td>0</td>\n",
       "      <td>0</td>\n",
       "      <td>0</td>\n",
       "      <td>0</td>\n",
       "      <td>0</td>\n",
       "      <td>0</td>\n",
       "      <td>1</td>\n",
       "      <td>0</td>\n",
       "      <td>0</td>\n",
       "      <td>1</td>\n",
       "      <td>0</td>\n",
       "      <td>1</td>\n",
       "      <td>0</td>\n",
       "      <td>0</td>\n",
       "      <td>1</td>\n",
       "      <td>0</td>\n",
       "      <td>0</td>\n",
       "      <td>0</td>\n",
       "    </tr>\n",
       "    <tr>\n",
       "      <th>max</th>\n",
       "      <td>5</td>\n",
       "      <td>5</td>\n",
       "      <td>10</td>\n",
       "      <td>10</td>\n",
       "      <td>10</td>\n",
       "      <td>10</td>\n",
       "      <td>10</td>\n",
       "      <td>5</td>\n",
       "      <td>2</td>\n",
       "      <td>10</td>\n",
       "      <td>10</td>\n",
       "      <td>10</td>\n",
       "      <td>10</td>\n",
       "      <td>10</td>\n",
       "      <td>10</td>\n",
       "      <td>10</td>\n",
       "      <td>2</td>\n",
       "      <td>10</td>\n",
       "      <td>10</td>\n",
       "      <td>10</td>\n",
       "    </tr>\n",
       "  </tbody>\n",
       "</table>\n",
       "</div>"
      ],
      "text/plain": [
       "     fruits_veggies  daily_stress  places_visited  core_circle  \\\n",
       "min               0             0               0            0   \n",
       "max               5             5              10           10   \n",
       "\n",
       "     supporting_others  social_network  achievement  donation  bmi_range  \\\n",
       "min                  0               0            0         0          1   \n",
       "max                 10              10           10         5          2   \n",
       "\n",
       "     todo_completed  flow  daily_steps  live_vision  sleep_hours  \\\n",
       "min               0     0            1            0            1   \n",
       "max              10    10           10           10           10   \n",
       "\n",
       "     lost_vacation  daily_shouting  sufficient_income  personal_awards  \\\n",
       "min              0               0                  1                0   \n",
       "max             10              10                  2               10   \n",
       "\n",
       "     time_for_passion  weekly_meditation  \n",
       "min                 0                  0  \n",
       "max                10                 10  "
      ]
     },
     "execution_count": 16,
     "metadata": {},
     "output_type": "execute_result"
    }
   ],
   "source": [
    "data.apply(['min','max'])"
   ]
  },
  {
   "cell_type": "code",
   "execution_count": 17,
   "metadata": {},
   "outputs": [
    {
     "data": {
      "text/plain": [
       "Text(0, 0.5, 'average stress')"
      ]
     },
     "execution_count": 17,
     "metadata": {},
     "output_type": "execute_result"
    },
    {
     "data": {
      "image/png": "[encoded data removed]",
      "text/plain": [
       "<Figure size 720x504 with 1 Axes>"
      ]
     },
     "metadata": {
      "needs_background": "light"
     },
     "output_type": "display_data"
    }
   ],
   "source": [
    "bmi_data=data[['bmi_range','daily_stress']].groupby('bmi_range').agg('mean')\n",
    "bmi_data['bmi_range']=bmi_data.index\n",
    "plt.figure(figsize=(10, 7))\n",
    "sns.set(style=\"darkgrid\")\n",
    "sns.barplot( x=\"bmi_range\",y = \"daily_stress\", data= bmi_data, color='c')\n",
    "plt.xlabel('bmi range',fontsize =18)\n",
    "plt.ylabel('average stress',fontsize=18)\n"
   ]
  },
  {
   "cell_type": "code",
   "execution_count": 18,
   "metadata": {},
   "outputs": [
    {
     "data": {
      "text/html": [
       "<div>\n",
       "<style scoped>\n",
       "    .dataframe tbody tr th:only-of-type {\n",
       "        vertical-align: middle;\n",
       "    }\n",
       "\n",
       "    .dataframe tbody tr th {\n",
       "        vertical-align: top;\n",
       "    }\n",
       "\n",
       "    .dataframe thead th {\n",
       "        text-align: right;\n",
       "    }\n",
       "</style>\n",
       "<table border=\"1\" class=\"dataframe\">\n",
       "  <thead>\n",
       "    <tr style=\"text-align: right;\">\n",
       "      <th></th>\n",
       "      <th>daily_stress</th>\n",
       "    </tr>\n",
       "    <tr>\n",
       "      <th>bmi_range</th>\n",
       "      <th></th>\n",
       "    </tr>\n",
       "  </thead>\n",
       "  <tbody>\n",
       "    <tr>\n",
       "      <th>1</th>\n",
       "      <td>2.696802</td>\n",
       "    </tr>\n",
       "    <tr>\n",
       "      <th>2</th>\n",
       "      <td>2.927874</td>\n",
       "    </tr>\n",
       "  </tbody>\n",
       "</table>\n",
       "</div>"
      ],
      "text/plain": [
       "           daily_stress\n",
       "bmi_range              \n",
       "1              2.696802\n",
       "2              2.927874"
      ]
     },
     "execution_count": 18,
     "metadata": {},
     "output_type": "execute_result"
    }
   ],
   "source": [
    "data[['bmi_range','daily_stress']].groupby('bmi_range').agg('mean')"
   ]
  },
  {
   "cell_type": "code",
   "execution_count": 19,
   "metadata": {},
   "outputs": [
    {
     "data": {
      "text/plain": [
       "Text(0, 0.5, 'average stress')"
      ]
     },
     "execution_count": 19,
     "metadata": {},
     "output_type": "execute_result"
    },
    {
     "data": {
      "image/png": "[encoded data removed]",
      "text/plain": [
       "<Figure size 720x504 with 1 Axes>"
      ]
     },
     "metadata": {},
     "output_type": "display_data"
    }
   ],
   "source": [
    "sleep_data= data[['sleep_hours','daily_stress']].groupby('sleep_hours').agg('mean')\n",
    "sleep_data['sleep_hours']=sleep_data.index\n",
    "plt.figure(figsize=(10, 7))\n",
    "sns.set(style=\"darkgrid\")\n",
    "sns.barplot( x=\"sleep_hours\",y = \"daily_stress\", data= sleep_data, color='c')\n",
    "#ax.set(xlabel='bmi range', ylabel='average stress') \n",
    "plt.xlabel('sleep hours',fontsize =18)\n",
    "plt.ylabel('average stress',fontsize=18)\n"
   ]
  },
  {
   "cell_type": "code",
   "execution_count": 20,
   "metadata": {},
   "outputs": [
    {
     "data": {
      "text/html": [
       "<div>\n",
       "<style scoped>\n",
       "    .dataframe tbody tr th:only-of-type {\n",
       "        vertical-align: middle;\n",
       "    }\n",
       "\n",
       "    .dataframe tbody tr th {\n",
       "        vertical-align: top;\n",
       "    }\n",
       "\n",
       "    .dataframe thead th {\n",
       "        text-align: right;\n",
       "    }\n",
       "</style>\n",
       "<table border=\"1\" class=\"dataframe\">\n",
       "  <thead>\n",
       "    <tr style=\"text-align: right;\">\n",
       "      <th></th>\n",
       "      <th>daily_stress</th>\n",
       "    </tr>\n",
       "    <tr>\n",
       "      <th>sleep_hours</th>\n",
       "      <th></th>\n",
       "    </tr>\n",
       "  </thead>\n",
       "  <tbody>\n",
       "    <tr>\n",
       "      <th>1</th>\n",
       "      <td>18</td>\n",
       "    </tr>\n",
       "    <tr>\n",
       "      <th>2</th>\n",
       "      <td>21</td>\n",
       "    </tr>\n",
       "    <tr>\n",
       "      <th>3</th>\n",
       "      <td>49</td>\n",
       "    </tr>\n",
       "    <tr>\n",
       "      <th>4</th>\n",
       "      <td>252</td>\n",
       "    </tr>\n",
       "    <tr>\n",
       "      <th>5</th>\n",
       "      <td>1025</td>\n",
       "    </tr>\n",
       "    <tr>\n",
       "      <th>6</th>\n",
       "      <td>3396</td>\n",
       "    </tr>\n",
       "    <tr>\n",
       "      <th>7</th>\n",
       "      <td>5566</td>\n",
       "    </tr>\n",
       "    <tr>\n",
       "      <th>8</th>\n",
       "      <td>4324</td>\n",
       "    </tr>\n",
       "    <tr>\n",
       "      <th>9</th>\n",
       "      <td>987</td>\n",
       "    </tr>\n",
       "    <tr>\n",
       "      <th>10</th>\n",
       "      <td>333</td>\n",
       "    </tr>\n",
       "  </tbody>\n",
       "</table>\n",
       "</div>"
      ],
      "text/plain": [
       "             daily_stress\n",
       "sleep_hours              \n",
       "1                      18\n",
       "2                      21\n",
       "3                      49\n",
       "4                     252\n",
       "5                    1025\n",
       "6                    3396\n",
       "7                    5566\n",
       "8                    4324\n",
       "9                     987\n",
       "10                    333"
      ]
     },
     "execution_count": 20,
     "metadata": {},
     "output_type": "execute_result"
    }
   ],
   "source": [
    "data[['sleep_hours','daily_stress']].groupby('sleep_hours').count()"
   ]
  },
  {
   "cell_type": "code",
   "execution_count": 21,
   "metadata": {},
   "outputs": [
    {
     "data": {
      "text/plain": [
       "Text(0, 0.5, 'average stress')"
      ]
     },
     "execution_count": 21,
     "metadata": {},
     "output_type": "execute_result"
    },
    {
     "data": {
      "image/png": "[encoded data removed]",
      "text/plain": [
       "<Figure size 720x504 with 1 Axes>"
      ]
     },
     "metadata": {},
     "output_type": "display_data"
    }
   ],
   "source": [
    "modified_sleep_data= data[['sleep_hours','daily_stress']].loc[data['sleep_hours'] != 1].groupby('sleep_hours').agg('mean')\n",
    "modified_sleep_data['sleep_hours']= modified_sleep_data.index\n",
    "plt.figure(figsize=(10, 7))\n",
    "sns.set(style=\"darkgrid\")\n",
    "sns.barplot( x=\"sleep_hours\",y = \"daily_stress\", data= modified_sleep_data, color='c')\n",
    "plt.xlabel('sleep hours',fontsize =18)\n",
    "plt.ylabel('average stress',fontsize=18)\n",
    "\n",
    "\n"
   ]
  },
  {
   "cell_type": "code",
   "execution_count": 22,
   "metadata": {},
   "outputs": [
    {
     "data": {
      "text/html": [
       "<div>\n",
       "<style scoped>\n",
       "    .dataframe tbody tr th:only-of-type {\n",
       "        vertical-align: middle;\n",
       "    }\n",
       "\n",
       "    .dataframe tbody tr th {\n",
       "        vertical-align: top;\n",
       "    }\n",
       "\n",
       "    .dataframe thead th {\n",
       "        text-align: right;\n",
       "    }\n",
       "</style>\n",
       "<table border=\"1\" class=\"dataframe\">\n",
       "  <thead>\n",
       "    <tr style=\"text-align: right;\">\n",
       "      <th></th>\n",
       "      <th>daily_stress</th>\n",
       "    </tr>\n",
       "    <tr>\n",
       "      <th>sleep_hours</th>\n",
       "      <th></th>\n",
       "    </tr>\n",
       "  </thead>\n",
       "  <tbody>\n",
       "    <tr>\n",
       "      <th>2</th>\n",
       "      <td>3.428571</td>\n",
       "    </tr>\n",
       "    <tr>\n",
       "      <th>3</th>\n",
       "      <td>3.285714</td>\n",
       "    </tr>\n",
       "    <tr>\n",
       "      <th>4</th>\n",
       "      <td>3.357143</td>\n",
       "    </tr>\n",
       "    <tr>\n",
       "      <th>5</th>\n",
       "      <td>3.222439</td>\n",
       "    </tr>\n",
       "    <tr>\n",
       "      <th>6</th>\n",
       "      <td>3.072733</td>\n",
       "    </tr>\n",
       "    <tr>\n",
       "      <th>7</th>\n",
       "      <td>2.763924</td>\n",
       "    </tr>\n",
       "    <tr>\n",
       "      <th>8</th>\n",
       "      <td>2.512026</td>\n",
       "    </tr>\n",
       "    <tr>\n",
       "      <th>9</th>\n",
       "      <td>2.593718</td>\n",
       "    </tr>\n",
       "    <tr>\n",
       "      <th>10</th>\n",
       "      <td>2.729730</td>\n",
       "    </tr>\n",
       "  </tbody>\n",
       "</table>\n",
       "</div>"
      ],
      "text/plain": [
       "             daily_stress\n",
       "sleep_hours              \n",
       "2                3.428571\n",
       "3                3.285714\n",
       "4                3.357143\n",
       "5                3.222439\n",
       "6                3.072733\n",
       "7                2.763924\n",
       "8                2.512026\n",
       "9                2.593718\n",
       "10               2.729730"
      ]
     },
     "execution_count": 22,
     "metadata": {},
     "output_type": "execute_result"
    }
   ],
   "source": [
    "modified_sleep_data= data[['sleep_hours','daily_stress']].loc[data['sleep_hours'] != 1].groupby('sleep_hours').agg('mean')\n",
    "modified_sleep_data"
   ]
  },
  {
   "cell_type": "code",
   "execution_count": 23,
   "metadata": {},
   "outputs": [
    {
     "data": {
      "text/plain": [
       "Text(0, 0.5, 'average stress')"
      ]
     },
     "execution_count": 23,
     "metadata": {},
     "output_type": "execute_result"
    },
    {
     "data": {
      "image/png": "[encoded data removed]",
      "text/plain": [
       "<Figure size 720x504 with 1 Axes>"
      ]
     },
     "metadata": {},
     "output_type": "display_data"
    }
   ],
   "source": [
    "steps_data = data[['daily_steps','daily_stress']].groupby('daily_steps').agg('mean')\n",
    "steps_data['daily_steps']=steps_data.index\n",
    "plt.figure(figsize=(10, 7))\n",
    "sns.set(style=\"darkgrid\")\n",
    "sns.barplot( x=\"daily_steps\",y = \"daily_stress\", data= steps_data, color='c')\n",
    "plt.xlabel('daily steps',fontsize =18)\n",
    "plt.ylabel('average stress',fontsize=18)\n"
   ]
  },
  {
   "cell_type": "code",
   "execution_count": 24,
   "metadata": {},
   "outputs": [
    {
     "data": {
      "text/html": [
       "<div>\n",
       "<style scoped>\n",
       "    .dataframe tbody tr th:only-of-type {\n",
       "        vertical-align: middle;\n",
       "    }\n",
       "\n",
       "    .dataframe tbody tr th {\n",
       "        vertical-align: top;\n",
       "    }\n",
       "\n",
       "    .dataframe thead th {\n",
       "        text-align: right;\n",
       "    }\n",
       "</style>\n",
       "<table border=\"1\" class=\"dataframe\">\n",
       "  <thead>\n",
       "    <tr style=\"text-align: right;\">\n",
       "      <th></th>\n",
       "      <th>daily_stress</th>\n",
       "    </tr>\n",
       "    <tr>\n",
       "      <th>daily_steps</th>\n",
       "      <th></th>\n",
       "    </tr>\n",
       "  </thead>\n",
       "  <tbody>\n",
       "    <tr>\n",
       "      <th>1</th>\n",
       "      <td>3.047162</td>\n",
       "    </tr>\n",
       "    <tr>\n",
       "      <th>2</th>\n",
       "      <td>2.868961</td>\n",
       "    </tr>\n",
       "    <tr>\n",
       "      <th>3</th>\n",
       "      <td>2.857052</td>\n",
       "    </tr>\n",
       "    <tr>\n",
       "      <th>4</th>\n",
       "      <td>2.801197</td>\n",
       "    </tr>\n",
       "    <tr>\n",
       "      <th>5</th>\n",
       "      <td>2.814901</td>\n",
       "    </tr>\n",
       "    <tr>\n",
       "      <th>6</th>\n",
       "      <td>2.756418</td>\n",
       "    </tr>\n",
       "    <tr>\n",
       "      <th>7</th>\n",
       "      <td>2.735849</td>\n",
       "    </tr>\n",
       "    <tr>\n",
       "      <th>8</th>\n",
       "      <td>2.727155</td>\n",
       "    </tr>\n",
       "    <tr>\n",
       "      <th>9</th>\n",
       "      <td>2.702550</td>\n",
       "    </tr>\n",
       "    <tr>\n",
       "      <th>10</th>\n",
       "      <td>2.678889</td>\n",
       "    </tr>\n",
       "  </tbody>\n",
       "</table>\n",
       "</div>"
      ],
      "text/plain": [
       "             daily_stress\n",
       "daily_steps              \n",
       "1                3.047162\n",
       "2                2.868961\n",
       "3                2.857052\n",
       "4                2.801197\n",
       "5                2.814901\n",
       "6                2.756418\n",
       "7                2.735849\n",
       "8                2.727155\n",
       "9                2.702550\n",
       "10               2.678889"
      ]
     },
     "execution_count": 24,
     "metadata": {},
     "output_type": "execute_result"
    }
   ],
   "source": [
    "data[['daily_steps','daily_stress']].groupby('daily_steps').agg('mean')"
   ]
  },
  {
   "cell_type": "code",
   "execution_count": 25,
   "metadata": {},
   "outputs": [
    {
     "data": {
      "text/plain": [
       "Text(0, 0.5, 'average stress')"
      ]
     },
     "execution_count": 25,
     "metadata": {},
     "output_type": "execute_result"
    },
    {
     "data": {
      "image/png": "[encoded data removed]",
      "text/plain": [
       "<Figure size 720x504 with 1 Axes>"
      ]
     },
     "metadata": {},
     "output_type": "display_data"
    }
   ],
   "source": [
    "fruits_veggies_data= data[['fruits_veggies','daily_stress']].groupby('fruits_veggies').agg('mean')\n",
    "fruits_veggies_data['fruits_veggies']=fruits_veggies_data.index\n",
    "plt.figure(figsize=(10, 7))\n",
    "sns.set(style=\"darkgrid\")\n",
    "sns.barplot( x=\"fruits_veggies\",y = \"daily_stress\", data= fruits_veggies_data, color='c')\n",
    "plt.xlabel('fruits and veggies per day',fontsize =18)\n",
    "plt.ylabel('average stress',fontsize=18)"
   ]
  },
  {
   "cell_type": "code",
   "execution_count": 26,
   "metadata": {},
   "outputs": [
    {
     "data": {
      "text/html": [
       "<div>\n",
       "<style scoped>\n",
       "    .dataframe tbody tr th:only-of-type {\n",
       "        vertical-align: middle;\n",
       "    }\n",
       "\n",
       "    .dataframe tbody tr th {\n",
       "        vertical-align: top;\n",
       "    }\n",
       "\n",
       "    .dataframe thead th {\n",
       "        text-align: right;\n",
       "    }\n",
       "</style>\n",
       "<table border=\"1\" class=\"dataframe\">\n",
       "  <thead>\n",
       "    <tr style=\"text-align: right;\">\n",
       "      <th></th>\n",
       "      <th>daily_stress</th>\n",
       "    </tr>\n",
       "    <tr>\n",
       "      <th>fruits_veggies</th>\n",
       "      <th></th>\n",
       "    </tr>\n",
       "  </thead>\n",
       "  <tbody>\n",
       "    <tr>\n",
       "      <th>0</th>\n",
       "      <td>3.110507</td>\n",
       "    </tr>\n",
       "    <tr>\n",
       "      <th>1</th>\n",
       "      <td>2.969434</td>\n",
       "    </tr>\n",
       "    <tr>\n",
       "      <th>2</th>\n",
       "      <td>2.856303</td>\n",
       "    </tr>\n",
       "    <tr>\n",
       "      <th>3</th>\n",
       "      <td>2.778908</td>\n",
       "    </tr>\n",
       "    <tr>\n",
       "      <th>4</th>\n",
       "      <td>2.705998</td>\n",
       "    </tr>\n",
       "    <tr>\n",
       "      <th>5</th>\n",
       "      <td>2.609997</td>\n",
       "    </tr>\n",
       "  </tbody>\n",
       "</table>\n",
       "</div>"
      ],
      "text/plain": [
       "                daily_stress\n",
       "fruits_veggies              \n",
       "0                   3.110507\n",
       "1                   2.969434\n",
       "2                   2.856303\n",
       "3                   2.778908\n",
       "4                   2.705998\n",
       "5                   2.609997"
      ]
     },
     "execution_count": 26,
     "metadata": {},
     "output_type": "execute_result"
    }
   ],
   "source": [
    "data[['fruits_veggies','daily_stress']].groupby('fruits_veggies').agg('mean')#.plot.bar(color='b')"
   ]
  },
  {
   "cell_type": "code",
   "execution_count": 27,
   "metadata": {},
   "outputs": [],
   "source": [
    "correlation_data=data[['bmi_range','fruits_veggies','daily_steps','sleep_hours','daily_stress','social_network', 'places_visited','core_circle','supporting_others','donation','time_for_passion','sufficient_income','weekly_meditation']]"
   ]
  },
  {
   "cell_type": "code",
   "execution_count": 28,
   "metadata": {},
   "outputs": [
    {
     "data": {
      "text/html": [
       "<div>\n",
       "<style scoped>\n",
       "    .dataframe tbody tr th:only-of-type {\n",
       "        vertical-align: middle;\n",
       "    }\n",
       "\n",
       "    .dataframe tbody tr th {\n",
       "        vertical-align: top;\n",
       "    }\n",
       "\n",
       "    .dataframe thead th {\n",
       "        text-align: right;\n",
       "    }\n",
       "</style>\n",
       "<table border=\"1\" class=\"dataframe\">\n",
       "  <thead>\n",
       "    <tr style=\"text-align: right;\">\n",
       "      <th></th>\n",
       "      <th>bmi_range</th>\n",
       "      <th>fruits_veggies</th>\n",
       "      <th>daily_steps</th>\n",
       "      <th>sleep_hours</th>\n",
       "      <th>daily_stress</th>\n",
       "      <th>social_network</th>\n",
       "      <th>places_visited</th>\n",
       "      <th>core_circle</th>\n",
       "      <th>supporting_others</th>\n",
       "      <th>donation</th>\n",
       "      <th>time_for_passion</th>\n",
       "      <th>sufficient_income</th>\n",
       "      <th>weekly_meditation</th>\n",
       "    </tr>\n",
       "  </thead>\n",
       "  <tbody>\n",
       "    <tr>\n",
       "      <th>bmi_range</th>\n",
       "      <td>1.000000</td>\n",
       "      <td>-0.092976</td>\n",
       "      <td>-0.131465</td>\n",
       "      <td>-0.098156</td>\n",
       "      <td>0.083110</td>\n",
       "      <td>0.019843</td>\n",
       "      <td>-0.108054</td>\n",
       "      <td>-0.025965</td>\n",
       "      <td>0.038558</td>\n",
       "      <td>0.064543</td>\n",
       "      <td>-0.006237</td>\n",
       "      <td>-0.011863</td>\n",
       "      <td>-0.078189</td>\n",
       "    </tr>\n",
       "    <tr>\n",
       "      <th>fruits_veggies</th>\n",
       "      <td>-0.092976</td>\n",
       "      <td>1.000000</td>\n",
       "      <td>0.251213</td>\n",
       "      <td>0.103633</td>\n",
       "      <td>-0.094535</td>\n",
       "      <td>0.106941</td>\n",
       "      <td>0.254906</td>\n",
       "      <td>0.157785</td>\n",
       "      <td>0.204469</td>\n",
       "      <td>0.199462</td>\n",
       "      <td>0.164581</td>\n",
       "      <td>0.148239</td>\n",
       "      <td>0.196104</td>\n",
       "    </tr>\n",
       "    <tr>\n",
       "      <th>daily_steps</th>\n",
       "      <td>-0.131465</td>\n",
       "      <td>0.251213</td>\n",
       "      <td>1.000000</td>\n",
       "      <td>0.009218</td>\n",
       "      <td>-0.065511</td>\n",
       "      <td>0.215799</td>\n",
       "      <td>0.196128</td>\n",
       "      <td>0.148021</td>\n",
       "      <td>0.147592</td>\n",
       "      <td>0.113415</td>\n",
       "      <td>0.139918</td>\n",
       "      <td>0.103871</td>\n",
       "      <td>0.148154</td>\n",
       "    </tr>\n",
       "    <tr>\n",
       "      <th>sleep_hours</th>\n",
       "      <td>-0.098156</td>\n",
       "      <td>0.103633</td>\n",
       "      <td>0.009218</td>\n",
       "      <td>1.000000</td>\n",
       "      <td>-0.157037</td>\n",
       "      <td>-0.029662</td>\n",
       "      <td>0.127251</td>\n",
       "      <td>0.066325</td>\n",
       "      <td>0.007125</td>\n",
       "      <td>-0.001343</td>\n",
       "      <td>0.061657</td>\n",
       "      <td>0.045341</td>\n",
       "      <td>0.163147</td>\n",
       "    </tr>\n",
       "    <tr>\n",
       "      <th>daily_stress</th>\n",
       "      <td>0.083110</td>\n",
       "      <td>-0.094535</td>\n",
       "      <td>-0.065511</td>\n",
       "      <td>-0.157037</td>\n",
       "      <td>1.000000</td>\n",
       "      <td>0.020930</td>\n",
       "      <td>-0.134857</td>\n",
       "      <td>-0.120238</td>\n",
       "      <td>-0.029852</td>\n",
       "      <td>-0.037721</td>\n",
       "      <td>-0.158141</td>\n",
       "      <td>-0.144573</td>\n",
       "      <td>-0.218660</td>\n",
       "    </tr>\n",
       "    <tr>\n",
       "      <th>social_network</th>\n",
       "      <td>0.019843</td>\n",
       "      <td>0.106941</td>\n",
       "      <td>0.215799</td>\n",
       "      <td>-0.029662</td>\n",
       "      <td>0.020930</td>\n",
       "      <td>1.000000</td>\n",
       "      <td>0.149358</td>\n",
       "      <td>0.308773</td>\n",
       "      <td>0.316200</td>\n",
       "      <td>0.156792</td>\n",
       "      <td>0.200535</td>\n",
       "      <td>0.123638</td>\n",
       "      <td>-0.006609</td>\n",
       "    </tr>\n",
       "    <tr>\n",
       "      <th>places_visited</th>\n",
       "      <td>-0.108054</td>\n",
       "      <td>0.254906</td>\n",
       "      <td>0.196128</td>\n",
       "      <td>0.127251</td>\n",
       "      <td>-0.134857</td>\n",
       "      <td>0.149358</td>\n",
       "      <td>1.000000</td>\n",
       "      <td>0.255803</td>\n",
       "      <td>0.237981</td>\n",
       "      <td>0.204597</td>\n",
       "      <td>0.177892</td>\n",
       "      <td>0.176672</td>\n",
       "      <td>0.209254</td>\n",
       "    </tr>\n",
       "    <tr>\n",
       "      <th>core_circle</th>\n",
       "      <td>-0.025965</td>\n",
       "      <td>0.157785</td>\n",
       "      <td>0.148021</td>\n",
       "      <td>0.066325</td>\n",
       "      <td>-0.120238</td>\n",
       "      <td>0.308773</td>\n",
       "      <td>0.255803</td>\n",
       "      <td>1.000000</td>\n",
       "      <td>0.337859</td>\n",
       "      <td>0.221875</td>\n",
       "      <td>0.227796</td>\n",
       "      <td>0.123117</td>\n",
       "      <td>0.105240</td>\n",
       "    </tr>\n",
       "    <tr>\n",
       "      <th>supporting_others</th>\n",
       "      <td>0.038558</td>\n",
       "      <td>0.204469</td>\n",
       "      <td>0.147592</td>\n",
       "      <td>0.007125</td>\n",
       "      <td>-0.029852</td>\n",
       "      <td>0.316200</td>\n",
       "      <td>0.237981</td>\n",
       "      <td>0.337859</td>\n",
       "      <td>1.000000</td>\n",
       "      <td>0.393149</td>\n",
       "      <td>0.327750</td>\n",
       "      <td>0.113340</td>\n",
       "      <td>0.144307</td>\n",
       "    </tr>\n",
       "    <tr>\n",
       "      <th>donation</th>\n",
       "      <td>0.064543</td>\n",
       "      <td>0.199462</td>\n",
       "      <td>0.113415</td>\n",
       "      <td>-0.001343</td>\n",
       "      <td>-0.037721</td>\n",
       "      <td>0.156792</td>\n",
       "      <td>0.204597</td>\n",
       "      <td>0.221875</td>\n",
       "      <td>0.393149</td>\n",
       "      <td>1.000000</td>\n",
       "      <td>0.193055</td>\n",
       "      <td>0.120585</td>\n",
       "      <td>0.144197</td>\n",
       "    </tr>\n",
       "    <tr>\n",
       "      <th>time_for_passion</th>\n",
       "      <td>-0.006237</td>\n",
       "      <td>0.164581</td>\n",
       "      <td>0.139918</td>\n",
       "      <td>0.061657</td>\n",
       "      <td>-0.158141</td>\n",
       "      <td>0.200535</td>\n",
       "      <td>0.177892</td>\n",
       "      <td>0.227796</td>\n",
       "      <td>0.327750</td>\n",
       "      <td>0.193055</td>\n",
       "      <td>1.000000</td>\n",
       "      <td>0.072079</td>\n",
       "      <td>0.191987</td>\n",
       "    </tr>\n",
       "    <tr>\n",
       "      <th>sufficient_income</th>\n",
       "      <td>-0.011863</td>\n",
       "      <td>0.148239</td>\n",
       "      <td>0.103871</td>\n",
       "      <td>0.045341</td>\n",
       "      <td>-0.144573</td>\n",
       "      <td>0.123638</td>\n",
       "      <td>0.176672</td>\n",
       "      <td>0.123117</td>\n",
       "      <td>0.113340</td>\n",
       "      <td>0.120585</td>\n",
       "      <td>0.072079</td>\n",
       "      <td>1.000000</td>\n",
       "      <td>0.075713</td>\n",
       "    </tr>\n",
       "    <tr>\n",
       "      <th>weekly_meditation</th>\n",
       "      <td>-0.078189</td>\n",
       "      <td>0.196104</td>\n",
       "      <td>0.148154</td>\n",
       "      <td>0.163147</td>\n",
       "      <td>-0.218660</td>\n",
       "      <td>-0.006609</td>\n",
       "      <td>0.209254</td>\n",
       "      <td>0.105240</td>\n",
       "      <td>0.144307</td>\n",
       "      <td>0.144197</td>\n",
       "      <td>0.191987</td>\n",
       "      <td>0.075713</td>\n",
       "      <td>1.000000</td>\n",
       "    </tr>\n",
       "  </tbody>\n",
       "</table>\n",
       "</div>"
      ],
      "text/plain": [
       "                   bmi_range  fruits_veggies  daily_steps  sleep_hours  \\\n",
       "bmi_range           1.000000       -0.092976    -0.131465    -0.098156   \n",
       "fruits_veggies     -0.092976        1.000000     0.251213     0.103633   \n",
       "daily_steps        -0.131465        0.251213     1.000000     0.009218   \n",
       "sleep_hours        -0.098156        0.103633     0.009218     1.000000   \n",
       "daily_stress        0.083110       -0.094535    -0.065511    -0.157037   \n",
       "social_network      0.019843        0.106941     0.215799    -0.029662   \n",
       "places_visited     -0.108054        0.254906     0.196128     0.127251   \n",
       "core_circle        -0.025965        0.157785     0.148021     0.066325   \n",
       "supporting_others   0.038558        0.204469     0.147592     0.007125   \n",
       "donation            0.064543        0.199462     0.113415    -0.001343   \n",
       "time_for_passion   -0.006237        0.164581     0.139918     0.061657   \n",
       "sufficient_income  -0.011863        0.148239     0.103871     0.045341   \n",
       "weekly_meditation  -0.078189        0.196104     0.148154     0.163147   \n",
       "\n",
       "                   daily_stress  social_network  places_visited  core_circle  \\\n",
       "bmi_range              0.083110        0.019843       -0.108054    -0.025965   \n",
       "fruits_veggies        -0.094535        0.106941        0.254906     0.157785   \n",
       "daily_steps           -0.065511        0.215799        0.196128     0.148021   \n",
       "sleep_hours           -0.157037       -0.029662        0.127251     0.066325   \n",
       "daily_stress           1.000000        0.020930       -0.134857    -0.120238   \n",
       "social_network         0.020930        1.000000        0.149358     0.308773   \n",
       "places_visited        -0.134857        0.149358        1.000000     0.255803   \n",
       "core_circle           -0.120238        0.308773        0.255803     1.000000   \n",
       "supporting_others     -0.029852        0.316200        0.237981     0.337859   \n",
       "donation              -0.037721        0.156792        0.204597     0.221875   \n",
       "time_for_passion      -0.158141        0.200535        0.177892     0.227796   \n",
       "sufficient_income     -0.144573        0.123638        0.176672     0.123117   \n",
       "weekly_meditation     -0.218660       -0.006609        0.209254     0.105240   \n",
       "\n",
       "                   supporting_others  donation  time_for_passion  \\\n",
       "bmi_range                   0.038558  0.064543         -0.006237   \n",
       "fruits_veggies              0.204469  0.199462          0.164581   \n",
       "daily_steps                 0.147592  0.113415          0.139918   \n",
       "sleep_hours                 0.007125 -0.001343          0.061657   \n",
       "daily_stress               -0.029852 -0.037721         -0.158141   \n",
       "social_network              0.316200  0.156792          0.200535   \n",
       "places_visited              0.237981  0.204597          0.177892   \n",
       "core_circle                 0.337859  0.221875          0.227796   \n",
       "supporting_others           1.000000  0.393149          0.327750   \n",
       "donation                    0.393149  1.000000          0.193055   \n",
       "time_for_passion            0.327750  0.193055          1.000000   \n",
       "sufficient_income           0.113340  0.120585          0.072079   \n",
       "weekly_meditation           0.144307  0.144197          0.191987   \n",
       "\n",
       "                   sufficient_income  weekly_meditation  \n",
       "bmi_range                  -0.011863          -0.078189  \n",
       "fruits_veggies              0.148239           0.196104  \n",
       "daily_steps                 0.103871           0.148154  \n",
       "sleep_hours                 0.045341           0.163147  \n",
       "daily_stress               -0.144573          -0.218660  \n",
       "social_network              0.123638          -0.006609  \n",
       "places_visited              0.176672           0.209254  \n",
       "core_circle                 0.123117           0.105240  \n",
       "supporting_others           0.113340           0.144307  \n",
       "donation                    0.120585           0.144197  \n",
       "time_for_passion            0.072079           0.191987  \n",
       "sufficient_income           1.000000           0.075713  \n",
       "weekly_meditation           0.075713           1.000000  "
      ]
     },
     "execution_count": 28,
     "metadata": {},
     "output_type": "execute_result"
    }
   ],
   "source": [
    "correlation_data= correlation_data.corr(method='pearson')\n",
    "correlation_data"
   ]
  },
  {
   "cell_type": "code",
   "execution_count": 29,
   "metadata": {},
   "outputs": [
    {
     "data": {
      "text/plain": [
       "daily_stress         1.000000\n",
       "bmi_range            0.083110\n",
       "social_network       0.020930\n",
       "supporting_others   -0.029852\n",
       "donation            -0.037721\n",
       "daily_steps         -0.065511\n",
       "fruits_veggies      -0.094535\n",
       "core_circle         -0.120238\n",
       "places_visited      -0.134857\n",
       "sufficient_income   -0.144573\n",
       "sleep_hours         -0.157037\n",
       "time_for_passion    -0.158141\n",
       "weekly_meditation   -0.218660\n",
       "Name: daily_stress, dtype: float64"
      ]
     },
     "execution_count": 29,
     "metadata": {},
     "output_type": "execute_result"
    }
   ],
   "source": [
    "correlation_data['daily_stress'].sort_values(ascending=False)"
   ]
  },
  {
   "cell_type": "code",
   "execution_count": 30,
   "metadata": {},
   "outputs": [
    {
     "data": {
      "text/plain": [
       "[Text(0, 0.5, 'bmi_range'),\n",
       " Text(0, 1.5, 'fruits_veggies'),\n",
       " Text(0, 2.5, 'daily_steps'),\n",
       " Text(0, 3.5, 'sleep_hours'),\n",
       " Text(0, 4.5, 'daily_stress'),\n",
       " Text(0, 5.5, 'social_network'),\n",
       " Text(0, 6.5, 'places_visited'),\n",
       " Text(0, 7.5, 'core_circle'),\n",
       " Text(0, 8.5, 'supporting_others'),\n",
       " Text(0, 9.5, 'donation'),\n",
       " Text(0, 10.5, 'time_for_passion'),\n",
       " Text(0, 11.5, 'sufficient_income'),\n",
       " Text(0, 12.5, 'weekly_meditation')]"
      ]
     },
     "execution_count": 30,
     "metadata": {},
     "output_type": "execute_result"
    },
    {
     "data": {
      "image/png": "[encoded data removed]",
      "text/plain": [
       "<Figure size 1440x1008 with 2 Axes>"
      ]
     },
     "metadata": {},
     "output_type": "display_data"
    }
   ],
   "source": [
    "plt.figure(figsize=(20,14))\n",
    "heatmap= sns.heatmap(correlation_data, annot = True, cmap= \"vlag\")\n",
    "heatmap.set_xticklabels(heatmap.get_xmajorticklabels(), fontsize = 18)\n",
    "heatmap.set_yticklabels(heatmap.get_ymajorticklabels(), fontsize = 18)"
   ]
  },
  {
   "cell_type": "code",
   "execution_count": 31,
   "metadata": {},
   "outputs": [
    {
     "data": {
      "text/plain": [
       "Text(0, 0.5, 'average stress')"
      ]
     },
     "execution_count": 31,
     "metadata": {},
     "output_type": "execute_result"
    },
    {
     "data": {
      "image/png": "[encoded data removed]",
      "text/plain": [
       "<Figure size 720x504 with 1 Axes>"
      ]
     },
     "metadata": {},
     "output_type": "display_data"
    }
   ],
   "source": [
    "social_network_data= data[['social_network','daily_stress']].groupby('social_network').agg('mean')\n",
    "social_network_data['social_network']=social_network_data.index\n",
    "plt.figure(figsize=(10, 7))\n",
    "sns.set(style=\"darkgrid\")\n",
    "sns.barplot( x=\"social_network\",y = \"daily_stress\", data= social_network_data, color='c')\n",
    "plt.xlabel('social network',fontsize =18)\n",
    "plt.ylabel('average stress',fontsize=18)\n"
   ]
  },
  {
   "cell_type": "code",
   "execution_count": 32,
   "metadata": {},
   "outputs": [
    {
     "data": {
      "text/html": [
       "<div>\n",
       "<style scoped>\n",
       "    .dataframe tbody tr th:only-of-type {\n",
       "        vertical-align: middle;\n",
       "    }\n",
       "\n",
       "    .dataframe tbody tr th {\n",
       "        vertical-align: top;\n",
       "    }\n",
       "\n",
       "    .dataframe thead th {\n",
       "        text-align: right;\n",
       "    }\n",
       "</style>\n",
       "<table border=\"1\" class=\"dataframe\">\n",
       "  <thead>\n",
       "    <tr style=\"text-align: right;\">\n",
       "      <th></th>\n",
       "      <th>daily_stress</th>\n",
       "    </tr>\n",
       "    <tr>\n",
       "      <th>social_network</th>\n",
       "      <th></th>\n",
       "    </tr>\n",
       "  </thead>\n",
       "  <tbody>\n",
       "    <tr>\n",
       "      <th>0</th>\n",
       "      <td>2.913793</td>\n",
       "    </tr>\n",
       "    <tr>\n",
       "      <th>1</th>\n",
       "      <td>2.895683</td>\n",
       "    </tr>\n",
       "    <tr>\n",
       "      <th>2</th>\n",
       "      <td>2.791297</td>\n",
       "    </tr>\n",
       "    <tr>\n",
       "      <th>3</th>\n",
       "      <td>2.782172</td>\n",
       "    </tr>\n",
       "    <tr>\n",
       "      <th>4</th>\n",
       "      <td>2.785256</td>\n",
       "    </tr>\n",
       "    <tr>\n",
       "      <th>5</th>\n",
       "      <td>2.746862</td>\n",
       "    </tr>\n",
       "    <tr>\n",
       "      <th>6</th>\n",
       "      <td>2.592289</td>\n",
       "    </tr>\n",
       "    <tr>\n",
       "      <th>7</th>\n",
       "      <td>2.664609</td>\n",
       "    </tr>\n",
       "    <tr>\n",
       "      <th>8</th>\n",
       "      <td>2.720079</td>\n",
       "    </tr>\n",
       "    <tr>\n",
       "      <th>9</th>\n",
       "      <td>2.830357</td>\n",
       "    </tr>\n",
       "    <tr>\n",
       "      <th>10</th>\n",
       "      <td>2.876994</td>\n",
       "    </tr>\n",
       "  </tbody>\n",
       "</table>\n",
       "</div>"
      ],
      "text/plain": [
       "                daily_stress\n",
       "social_network              \n",
       "0                   2.913793\n",
       "1                   2.895683\n",
       "2                   2.791297\n",
       "3                   2.782172\n",
       "4                   2.785256\n",
       "5                   2.746862\n",
       "6                   2.592289\n",
       "7                   2.664609\n",
       "8                   2.720079\n",
       "9                   2.830357\n",
       "10                  2.876994"
      ]
     },
     "execution_count": 32,
     "metadata": {},
     "output_type": "execute_result"
    }
   ],
   "source": [
    "social_network_data= data[['social_network','daily_stress']].groupby('social_network').agg('mean')\n",
    "social_network_data"
   ]
  },
  {
   "cell_type": "code",
   "execution_count": 33,
   "metadata": {},
   "outputs": [
    {
     "data": {
      "text/plain": [
       "Text(0, 0.5, 'average stress')"
      ]
     },
     "execution_count": 33,
     "metadata": {},
     "output_type": "execute_result"
    },
    {
     "data": {
      "image/png": "[encoded data removed]",
      "text/plain": [
       "<Figure size 720x504 with 1 Axes>"
      ]
     },
     "metadata": {},
     "output_type": "display_data"
    }
   ],
   "source": [
    "places_visited_data=data[['places_visited','daily_stress']].groupby('places_visited').agg('mean')\n",
    "places_visited_data['places_visited']= places_visited_data.index\n",
    "plt.figure(figsize=(10, 7))\n",
    "sns.set(style=\"darkgrid\")\n",
    "sns.barplot( x=\"places_visited\",y = \"daily_stress\", data= places_visited_data, color='c')\n",
    "plt.xlabel('places visited',fontsize =18)\n",
    "plt.ylabel('average stress',fontsize=18)\n"
   ]
  },
  {
   "cell_type": "code",
   "execution_count": 34,
   "metadata": {},
   "outputs": [
    {
     "data": {
      "text/html": [
       "<div>\n",
       "<style scoped>\n",
       "    .dataframe tbody tr th:only-of-type {\n",
       "        vertical-align: middle;\n",
       "    }\n",
       "\n",
       "    .dataframe tbody tr th {\n",
       "        vertical-align: top;\n",
       "    }\n",
       "\n",
       "    .dataframe thead th {\n",
       "        text-align: right;\n",
       "    }\n",
       "</style>\n",
       "<table border=\"1\" class=\"dataframe\">\n",
       "  <thead>\n",
       "    <tr style=\"text-align: right;\">\n",
       "      <th></th>\n",
       "      <th>daily_stress</th>\n",
       "    </tr>\n",
       "    <tr>\n",
       "      <th>places_visited</th>\n",
       "      <th></th>\n",
       "    </tr>\n",
       "  </thead>\n",
       "  <tbody>\n",
       "    <tr>\n",
       "      <th>0</th>\n",
       "      <td>3.277559</td>\n",
       "    </tr>\n",
       "    <tr>\n",
       "      <th>1</th>\n",
       "      <td>3.032748</td>\n",
       "    </tr>\n",
       "    <tr>\n",
       "      <th>2</th>\n",
       "      <td>2.981533</td>\n",
       "    </tr>\n",
       "    <tr>\n",
       "      <th>3</th>\n",
       "      <td>2.869022</td>\n",
       "    </tr>\n",
       "    <tr>\n",
       "      <th>4</th>\n",
       "      <td>2.777112</td>\n",
       "    </tr>\n",
       "    <tr>\n",
       "      <th>5</th>\n",
       "      <td>2.732009</td>\n",
       "    </tr>\n",
       "    <tr>\n",
       "      <th>6</th>\n",
       "      <td>2.729754</td>\n",
       "    </tr>\n",
       "    <tr>\n",
       "      <th>7</th>\n",
       "      <td>2.660592</td>\n",
       "    </tr>\n",
       "    <tr>\n",
       "      <th>8</th>\n",
       "      <td>2.666288</td>\n",
       "    </tr>\n",
       "    <tr>\n",
       "      <th>9</th>\n",
       "      <td>2.511628</td>\n",
       "    </tr>\n",
       "    <tr>\n",
       "      <th>10</th>\n",
       "      <td>2.573637</td>\n",
       "    </tr>\n",
       "  </tbody>\n",
       "</table>\n",
       "</div>"
      ],
      "text/plain": [
       "                daily_stress\n",
       "places_visited              \n",
       "0                   3.277559\n",
       "1                   3.032748\n",
       "2                   2.981533\n",
       "3                   2.869022\n",
       "4                   2.777112\n",
       "5                   2.732009\n",
       "6                   2.729754\n",
       "7                   2.660592\n",
       "8                   2.666288\n",
       "9                   2.511628\n",
       "10                  2.573637"
      ]
     },
     "execution_count": 34,
     "metadata": {},
     "output_type": "execute_result"
    }
   ],
   "source": [
    "places_visited_data=data[['places_visited','daily_stress']].groupby('places_visited').agg('mean')\n",
    "places_visited_data"
   ]
  },
  {
   "cell_type": "code",
   "execution_count": 35,
   "metadata": {},
   "outputs": [
    {
     "data": {
      "text/plain": [
       "Text(0, 0.5, 'average stress')"
      ]
     },
     "execution_count": 35,
     "metadata": {},
     "output_type": "execute_result"
    },
    {
     "data": {
      "image/png": "[encoded data removed]",
      "text/plain": [
       "<Figure size 720x504 with 1 Axes>"
      ]
     },
     "metadata": {},
     "output_type": "display_data"
    }
   ],
   "source": [
    "core_circle_data= data[['core_circle','daily_stress']].groupby('core_circle').agg('mean')#.plot.bar(color='b')\n",
    "core_circle_data['core_circle']= core_circle_data.index\n",
    "plt.figure(figsize=(10, 7))\n",
    "sns.set(style=\"darkgrid\")\n",
    "sns.barplot( x=\"core_circle\",y = \"daily_stress\", data= core_circle_data, color='c')\n",
    "plt.xlabel('core circle',fontsize =18)\n",
    "plt.ylabel('average stress',fontsize=18)\n"
   ]
  },
  {
   "cell_type": "code",
   "execution_count": 36,
   "metadata": {},
   "outputs": [
    {
     "data": {
      "text/html": [
       "<div>\n",
       "<style scoped>\n",
       "    .dataframe tbody tr th:only-of-type {\n",
       "        vertical-align: middle;\n",
       "    }\n",
       "\n",
       "    .dataframe tbody tr th {\n",
       "        vertical-align: top;\n",
       "    }\n",
       "\n",
       "    .dataframe thead th {\n",
       "        text-align: right;\n",
       "    }\n",
       "</style>\n",
       "<table border=\"1\" class=\"dataframe\">\n",
       "  <thead>\n",
       "    <tr style=\"text-align: right;\">\n",
       "      <th></th>\n",
       "      <th>daily_stress</th>\n",
       "    </tr>\n",
       "    <tr>\n",
       "      <th>core_circle</th>\n",
       "      <th></th>\n",
       "    </tr>\n",
       "  </thead>\n",
       "  <tbody>\n",
       "    <tr>\n",
       "      <th>0</th>\n",
       "      <td>3.195513</td>\n",
       "    </tr>\n",
       "    <tr>\n",
       "      <th>1</th>\n",
       "      <td>3.063978</td>\n",
       "    </tr>\n",
       "    <tr>\n",
       "      <th>2</th>\n",
       "      <td>3.023651</td>\n",
       "    </tr>\n",
       "    <tr>\n",
       "      <th>3</th>\n",
       "      <td>2.957754</td>\n",
       "    </tr>\n",
       "    <tr>\n",
       "      <th>4</th>\n",
       "      <td>2.813110</td>\n",
       "    </tr>\n",
       "    <tr>\n",
       "      <th>5</th>\n",
       "      <td>2.825726</td>\n",
       "    </tr>\n",
       "    <tr>\n",
       "      <th>6</th>\n",
       "      <td>2.733843</td>\n",
       "    </tr>\n",
       "    <tr>\n",
       "      <th>7</th>\n",
       "      <td>2.723050</td>\n",
       "    </tr>\n",
       "    <tr>\n",
       "      <th>8</th>\n",
       "      <td>2.625688</td>\n",
       "    </tr>\n",
       "    <tr>\n",
       "      <th>9</th>\n",
       "      <td>2.722826</td>\n",
       "    </tr>\n",
       "    <tr>\n",
       "      <th>10</th>\n",
       "      <td>2.539152</td>\n",
       "    </tr>\n",
       "  </tbody>\n",
       "</table>\n",
       "</div>"
      ],
      "text/plain": [
       "             daily_stress\n",
       "core_circle              \n",
       "0                3.195513\n",
       "1                3.063978\n",
       "2                3.023651\n",
       "3                2.957754\n",
       "4                2.813110\n",
       "5                2.825726\n",
       "6                2.733843\n",
       "7                2.723050\n",
       "8                2.625688\n",
       "9                2.722826\n",
       "10               2.539152"
      ]
     },
     "execution_count": 36,
     "metadata": {},
     "output_type": "execute_result"
    }
   ],
   "source": [
    "core_circle_data= data[['core_circle','daily_stress']].groupby('core_circle').agg('mean')\n",
    "core_circle_data\n"
   ]
  },
  {
   "cell_type": "code",
   "execution_count": 37,
   "metadata": {},
   "outputs": [
    {
     "data": {
      "text/html": [
       "<div>\n",
       "<style scoped>\n",
       "    .dataframe tbody tr th:only-of-type {\n",
       "        vertical-align: middle;\n",
       "    }\n",
       "\n",
       "    .dataframe tbody tr th {\n",
       "        vertical-align: top;\n",
       "    }\n",
       "\n",
       "    .dataframe thead th {\n",
       "        text-align: right;\n",
       "    }\n",
       "</style>\n",
       "<table border=\"1\" class=\"dataframe\">\n",
       "  <thead>\n",
       "    <tr style=\"text-align: right;\">\n",
       "      <th></th>\n",
       "      <th>daily_stress</th>\n",
       "    </tr>\n",
       "    <tr>\n",
       "      <th>supporting_others</th>\n",
       "      <th></th>\n",
       "    </tr>\n",
       "  </thead>\n",
       "  <tbody>\n",
       "    <tr>\n",
       "      <th>0</th>\n",
       "      <td>2.897297</td>\n",
       "    </tr>\n",
       "    <tr>\n",
       "      <th>1</th>\n",
       "      <td>2.859570</td>\n",
       "    </tr>\n",
       "    <tr>\n",
       "      <th>2</th>\n",
       "      <td>2.855964</td>\n",
       "    </tr>\n",
       "    <tr>\n",
       "      <th>3</th>\n",
       "      <td>2.792371</td>\n",
       "    </tr>\n",
       "    <tr>\n",
       "      <th>4</th>\n",
       "      <td>2.741191</td>\n",
       "    </tr>\n",
       "    <tr>\n",
       "      <th>5</th>\n",
       "      <td>2.822977</td>\n",
       "    </tr>\n",
       "    <tr>\n",
       "      <th>6</th>\n",
       "      <td>2.848079</td>\n",
       "    </tr>\n",
       "    <tr>\n",
       "      <th>7</th>\n",
       "      <td>2.819563</td>\n",
       "    </tr>\n",
       "    <tr>\n",
       "      <th>8</th>\n",
       "      <td>2.692475</td>\n",
       "    </tr>\n",
       "    <tr>\n",
       "      <th>9</th>\n",
       "      <td>2.840136</td>\n",
       "    </tr>\n",
       "    <tr>\n",
       "      <th>10</th>\n",
       "      <td>2.733283</td>\n",
       "    </tr>\n",
       "  </tbody>\n",
       "</table>\n",
       "</div>"
      ],
      "text/plain": [
       "                   daily_stress\n",
       "supporting_others              \n",
       "0                      2.897297\n",
       "1                      2.859570\n",
       "2                      2.855964\n",
       "3                      2.792371\n",
       "4                      2.741191\n",
       "5                      2.822977\n",
       "6                      2.848079\n",
       "7                      2.819563\n",
       "8                      2.692475\n",
       "9                      2.840136\n",
       "10                     2.733283"
      ]
     },
     "execution_count": 37,
     "metadata": {},
     "output_type": "execute_result"
    }
   ],
   "source": [
    "supporting_others_data = data[['supporting_others','daily_stress']].groupby('supporting_others').agg('mean')\n",
    "supporting_others_data"
   ]
  },
  {
   "cell_type": "code",
   "execution_count": 38,
   "metadata": {},
   "outputs": [
    {
     "data": {
      "text/plain": [
       "Text(0, 0.5, 'average stress')"
      ]
     },
     "execution_count": 38,
     "metadata": {},
     "output_type": "execute_result"
    },
    {
     "data": {
      "image/png": "[encoded data removed]",
      "text/plain": [
       "<Figure size 720x504 with 1 Axes>"
      ]
     },
     "metadata": {},
     "output_type": "display_data"
    }
   ],
   "source": [
    "supporting_others_data = data[['supporting_others','daily_stress']].groupby('supporting_others').agg('mean')\n",
    "supporting_others_data['supporting_others']= supporting_others_data.index\n",
    "plt.figure(figsize=(10, 7))\n",
    "sns.set(style=\"darkgrid\")\n",
    "sns.barplot( x=\"supporting_others\",y = \"daily_stress\", data= supporting_others_data, color='c')\n",
    "plt.xlabel('supporting others',fontsize =18)\n",
    "plt.ylabel('average stress',fontsize=18)"
   ]
  },
  {
   "cell_type": "code",
   "execution_count": 39,
   "metadata": {},
   "outputs": [
    {
     "data": {
      "text/html": [
       "<div>\n",
       "<style scoped>\n",
       "    .dataframe tbody tr th:only-of-type {\n",
       "        vertical-align: middle;\n",
       "    }\n",
       "\n",
       "    .dataframe tbody tr th {\n",
       "        vertical-align: top;\n",
       "    }\n",
       "\n",
       "    .dataframe thead th {\n",
       "        text-align: right;\n",
       "    }\n",
       "</style>\n",
       "<table border=\"1\" class=\"dataframe\">\n",
       "  <thead>\n",
       "    <tr style=\"text-align: right;\">\n",
       "      <th></th>\n",
       "      <th>daily_stress</th>\n",
       "    </tr>\n",
       "    <tr>\n",
       "      <th>donation</th>\n",
       "      <th></th>\n",
       "    </tr>\n",
       "  </thead>\n",
       "  <tbody>\n",
       "    <tr>\n",
       "      <th>0</th>\n",
       "      <td>2.868000</td>\n",
       "    </tr>\n",
       "    <tr>\n",
       "      <th>1</th>\n",
       "      <td>2.846327</td>\n",
       "    </tr>\n",
       "    <tr>\n",
       "      <th>2</th>\n",
       "      <td>2.791552</td>\n",
       "    </tr>\n",
       "    <tr>\n",
       "      <th>3</th>\n",
       "      <td>2.803167</td>\n",
       "    </tr>\n",
       "    <tr>\n",
       "      <th>4</th>\n",
       "      <td>2.744615</td>\n",
       "    </tr>\n",
       "    <tr>\n",
       "      <th>5</th>\n",
       "      <td>2.728571</td>\n",
       "    </tr>\n",
       "  </tbody>\n",
       "</table>\n",
       "</div>"
      ],
      "text/plain": [
       "          daily_stress\n",
       "donation              \n",
       "0             2.868000\n",
       "1             2.846327\n",
       "2             2.791552\n",
       "3             2.803167\n",
       "4             2.744615\n",
       "5             2.728571"
      ]
     },
     "execution_count": 39,
     "metadata": {},
     "output_type": "execute_result"
    }
   ],
   "source": [
    "donation_data=data[['donation','daily_stress']].groupby('donation').agg('mean')\n",
    "donation_data"
   ]
  },
  {
   "cell_type": "code",
   "execution_count": 40,
   "metadata": {},
   "outputs": [
    {
     "data": {
      "text/plain": [
       "Text(0, 0.5, 'average stress')"
      ]
     },
     "execution_count": 40,
     "metadata": {},
     "output_type": "execute_result"
    },
    {
     "data": {
      "image/png": "[encoded data removed]",
      "text/plain": [
       "<Figure size 720x504 with 1 Axes>"
      ]
     },
     "metadata": {},
     "output_type": "display_data"
    }
   ],
   "source": [
    "donation_data=data[['donation','daily_stress']].groupby('donation').agg('mean')\n",
    "donation_data['donation']= donation_data.index\n",
    "plt.figure(figsize=(10, 7))\n",
    "sns.set(style=\"darkgrid\")\n",
    "sns.barplot( x=\"donation\",y = \"daily_stress\", data= donation_data, color='c')\n",
    "plt.xlabel('donation',fontsize =18)\n",
    "plt.ylabel('average stress',fontsize=18)"
   ]
  },
  {
   "cell_type": "code",
   "execution_count": 41,
   "metadata": {},
   "outputs": [
    {
     "data": {
      "text/html": [
       "<div>\n",
       "<style scoped>\n",
       "    .dataframe tbody tr th:only-of-type {\n",
       "        vertical-align: middle;\n",
       "    }\n",
       "\n",
       "    .dataframe tbody tr th {\n",
       "        vertical-align: top;\n",
       "    }\n",
       "\n",
       "    .dataframe thead th {\n",
       "        text-align: right;\n",
       "    }\n",
       "</style>\n",
       "<table border=\"1\" class=\"dataframe\">\n",
       "  <thead>\n",
       "    <tr style=\"text-align: right;\">\n",
       "      <th></th>\n",
       "      <th>daily_stress</th>\n",
       "    </tr>\n",
       "    <tr>\n",
       "      <th>time_for_passion</th>\n",
       "      <th></th>\n",
       "    </tr>\n",
       "  </thead>\n",
       "  <tbody>\n",
       "    <tr>\n",
       "      <th>0</th>\n",
       "      <td>3.341681</td>\n",
       "    </tr>\n",
       "    <tr>\n",
       "      <th>1</th>\n",
       "      <td>2.977169</td>\n",
       "    </tr>\n",
       "    <tr>\n",
       "      <th>2</th>\n",
       "      <td>2.796836</td>\n",
       "    </tr>\n",
       "    <tr>\n",
       "      <th>3</th>\n",
       "      <td>2.712029</td>\n",
       "    </tr>\n",
       "    <tr>\n",
       "      <th>4</th>\n",
       "      <td>2.615691</td>\n",
       "    </tr>\n",
       "    <tr>\n",
       "      <th>5</th>\n",
       "      <td>2.558177</td>\n",
       "    </tr>\n",
       "    <tr>\n",
       "      <th>6</th>\n",
       "      <td>2.556112</td>\n",
       "    </tr>\n",
       "    <tr>\n",
       "      <th>7</th>\n",
       "      <td>2.562205</td>\n",
       "    </tr>\n",
       "    <tr>\n",
       "      <th>8</th>\n",
       "      <td>2.509392</td>\n",
       "    </tr>\n",
       "    <tr>\n",
       "      <th>9</th>\n",
       "      <td>2.538860</td>\n",
       "    </tr>\n",
       "    <tr>\n",
       "      <th>10</th>\n",
       "      <td>2.470674</td>\n",
       "    </tr>\n",
       "  </tbody>\n",
       "</table>\n",
       "</div>"
      ],
      "text/plain": [
       "                  daily_stress\n",
       "time_for_passion              \n",
       "0                     3.341681\n",
       "1                     2.977169\n",
       "2                     2.796836\n",
       "3                     2.712029\n",
       "4                     2.615691\n",
       "5                     2.558177\n",
       "6                     2.556112\n",
       "7                     2.562205\n",
       "8                     2.509392\n",
       "9                     2.538860\n",
       "10                    2.470674"
      ]
     },
     "execution_count": 41,
     "metadata": {},
     "output_type": "execute_result"
    }
   ],
   "source": [
    "passion_data= data[['time_for_passion','daily_stress']].groupby('time_for_passion').agg('mean')\n",
    "passion_data"
   ]
  },
  {
   "cell_type": "code",
   "execution_count": 42,
   "metadata": {},
   "outputs": [
    {
     "data": {
      "text/plain": [
       "Text(0, 0.5, 'average stress')"
      ]
     },
     "execution_count": 42,
     "metadata": {},
     "output_type": "execute_result"
    },
    {
     "data": {
      "image/png": "[encoded data removed]",
      "text/plain": [
       "<Figure size 720x504 with 1 Axes>"
      ]
     },
     "metadata": {},
     "output_type": "display_data"
    }
   ],
   "source": [
    "passion_data= data[['time_for_passion','daily_stress']].groupby('time_for_passion').agg('mean')\n",
    "passion_data['time_for_passion']= passion_data.index\n",
    "plt.figure(figsize=(10, 7))\n",
    "sns.set(style=\"darkgrid\")\n",
    "sns.barplot( x=\"time_for_passion\",y = \"daily_stress\", data= passion_data, color='c')\n",
    "plt.xlabel('time for passion',fontsize =18)\n",
    "plt.ylabel('average stress',fontsize=18)"
   ]
  },
  {
   "cell_type": "code",
   "execution_count": 43,
   "metadata": {},
   "outputs": [
    {
     "data": {
      "text/html": [
       "<div>\n",
       "<style scoped>\n",
       "    .dataframe tbody tr th:only-of-type {\n",
       "        vertical-align: middle;\n",
       "    }\n",
       "\n",
       "    .dataframe tbody tr th {\n",
       "        vertical-align: top;\n",
       "    }\n",
       "\n",
       "    .dataframe thead th {\n",
       "        text-align: right;\n",
       "    }\n",
       "</style>\n",
       "<table border=\"1\" class=\"dataframe\">\n",
       "  <thead>\n",
       "    <tr style=\"text-align: right;\">\n",
       "      <th></th>\n",
       "      <th>daily_stress</th>\n",
       "    </tr>\n",
       "    <tr>\n",
       "      <th>sufficient_income</th>\n",
       "      <th></th>\n",
       "    </tr>\n",
       "  </thead>\n",
       "  <tbody>\n",
       "    <tr>\n",
       "      <th>1</th>\n",
       "      <td>3.115962</td>\n",
       "    </tr>\n",
       "    <tr>\n",
       "      <th>2</th>\n",
       "      <td>2.671105</td>\n",
       "    </tr>\n",
       "  </tbody>\n",
       "</table>\n",
       "</div>"
      ],
      "text/plain": [
       "                   daily_stress\n",
       "sufficient_income              \n",
       "1                      3.115962\n",
       "2                      2.671105"
      ]
     },
     "execution_count": 43,
     "metadata": {},
     "output_type": "execute_result"
    }
   ],
   "source": [
    "income_data= data[['sufficient_income','daily_stress']].groupby('sufficient_income').agg('mean')\n",
    "income_data"
   ]
  },
  {
   "cell_type": "code",
   "execution_count": 44,
   "metadata": {},
   "outputs": [
    {
     "data": {
      "text/plain": [
       "Text(0, 0.5, 'average stress')"
      ]
     },
     "execution_count": 44,
     "metadata": {},
     "output_type": "execute_result"
    },
    {
     "data": {
      "image/png": "[encoded data removed]",
      "text/plain": [
       "<Figure size 720x504 with 1 Axes>"
      ]
     },
     "metadata": {},
     "output_type": "display_data"
    }
   ],
   "source": [
    "income_data['sufficient_income']= income_data.index\n",
    "plt.figure(figsize=(10, 7))\n",
    "sns.set(style=\"darkgrid\")\n",
    "sns.barplot( x=\"sufficient_income\",y = \"daily_stress\", data= income_data, color='c')\n",
    "plt.xlabel('sufficient income',fontsize =18)\n",
    "plt.ylabel('average stress',fontsize=18)"
   ]
  },
  {
   "cell_type": "code",
   "execution_count": 45,
   "metadata": {},
   "outputs": [
    {
     "data": {
      "text/html": [
       "<div>\n",
       "<style scoped>\n",
       "    .dataframe tbody tr th:only-of-type {\n",
       "        vertical-align: middle;\n",
       "    }\n",
       "\n",
       "    .dataframe tbody tr th {\n",
       "        vertical-align: top;\n",
       "    }\n",
       "\n",
       "    .dataframe thead th {\n",
       "        text-align: right;\n",
       "    }\n",
       "</style>\n",
       "<table border=\"1\" class=\"dataframe\">\n",
       "  <thead>\n",
       "    <tr style=\"text-align: right;\">\n",
       "      <th></th>\n",
       "      <th>daily_stress</th>\n",
       "    </tr>\n",
       "    <tr>\n",
       "      <th>weekly_meditation</th>\n",
       "      <th></th>\n",
       "    </tr>\n",
       "  </thead>\n",
       "  <tbody>\n",
       "    <tr>\n",
       "      <th>0</th>\n",
       "      <td>3.646465</td>\n",
       "    </tr>\n",
       "    <tr>\n",
       "      <th>1</th>\n",
       "      <td>3.407989</td>\n",
       "    </tr>\n",
       "    <tr>\n",
       "      <th>2</th>\n",
       "      <td>3.237522</td>\n",
       "    </tr>\n",
       "    <tr>\n",
       "      <th>3</th>\n",
       "      <td>3.100874</td>\n",
       "    </tr>\n",
       "    <tr>\n",
       "      <th>4</th>\n",
       "      <td>2.993893</td>\n",
       "    </tr>\n",
       "    <tr>\n",
       "      <th>5</th>\n",
       "      <td>2.871017</td>\n",
       "    </tr>\n",
       "    <tr>\n",
       "      <th>6</th>\n",
       "      <td>2.740173</td>\n",
       "    </tr>\n",
       "    <tr>\n",
       "      <th>7</th>\n",
       "      <td>2.664615</td>\n",
       "    </tr>\n",
       "    <tr>\n",
       "      <th>8</th>\n",
       "      <td>2.502518</td>\n",
       "    </tr>\n",
       "    <tr>\n",
       "      <th>9</th>\n",
       "      <td>2.566893</td>\n",
       "    </tr>\n",
       "    <tr>\n",
       "      <th>10</th>\n",
       "      <td>2.475146</td>\n",
       "    </tr>\n",
       "  </tbody>\n",
       "</table>\n",
       "</div>"
      ],
      "text/plain": [
       "                   daily_stress\n",
       "weekly_meditation              \n",
       "0                      3.646465\n",
       "1                      3.407989\n",
       "2                      3.237522\n",
       "3                      3.100874\n",
       "4                      2.993893\n",
       "5                      2.871017\n",
       "6                      2.740173\n",
       "7                      2.664615\n",
       "8                      2.502518\n",
       "9                      2.566893\n",
       "10                     2.475146"
      ]
     },
     "execution_count": 45,
     "metadata": {},
     "output_type": "execute_result"
    }
   ],
   "source": [
    "meditation_data= data[['weekly_meditation','daily_stress']].groupby('weekly_meditation').agg('mean')\n",
    "meditation_data"
   ]
  },
  {
   "cell_type": "code",
   "execution_count": 46,
   "metadata": {},
   "outputs": [
    {
     "data": {
      "text/plain": [
       "Text(0, 0.5, 'average stress')"
      ]
     },
     "execution_count": 46,
     "metadata": {},
     "output_type": "execute_result"
    },
    {
     "data": {
      "image/png": "[encoded data removed]",
      "text/plain": [
       "<Figure size 720x504 with 1 Axes>"
      ]
     },
     "metadata": {},
     "output_type": "display_data"
    }
   ],
   "source": [
    "plt.figure(figsize=(10, 7))\n",
    "sns.set(style=\"darkgrid\")\n",
    "meditation_data['weekly_meditation']= meditation_data.index\n",
    "sns.barplot( x=\"weekly_meditation\",y = \"daily_stress\", data= meditation_data, color='c')\n",
    "plt.xlabel('weekly meditation',fontsize =18)\n",
    "plt.ylabel('average stress',fontsize=18)"
   ]
  }
 ],
 "metadata": {
  "kernelspec": {
   "display_name": "Python 3",
   "language": "python",
   "name": "python3"
  },
  "language_info": {
   "codemirror_mode": {
    "name": "ipython",
    "version": 3
   },
   "file_extension": ".py",
   "mimetype": "text/x-python",
   "name": "python",
   "nbconvert_exporter": "python",
   "pygments_lexer": "ipython3",
   "version": "3.8.5"
  }
 },
 "nbformat": 4,
 "nbformat_minor": 4
}
